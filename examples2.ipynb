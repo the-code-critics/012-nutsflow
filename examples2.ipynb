{
 "cells": [
  {
   "cell_type": "markdown",
   "metadata": {},
   "source": [
    "Files() >> Lines() >> Normalize() >> Contains(keywords) >> Write()"
   ]
  },
  {
   "cell_type": "code",
   "execution_count": 3,
   "metadata": {},
   "outputs": [],
   "source": [
    "from nutsflow import *"
   ]
  },
  {
   "cell_type": "code",
   "execution_count": 5,
   "metadata": {},
   "outputs": [],
   "source": [
    "@nut_source\n",
    "def Files():\n",
    "    from glob import glob\n",
    "    for path in glob('data/*.txt'):\n",
    "        with open(path) as f:\n",
    "            yield path, f"
   ]
  },
  {
   "cell_type": "code",
   "execution_count": 6,
   "metadata": {},
   "outputs": [
    {
     "data": {
      "text/plain": [
       "<nutsflow.factory.nut_source.<locals>.Wrapper at 0x1f535659130>"
      ]
     },
     "execution_count": 6,
     "metadata": {},
     "output_type": "execute_result"
    }
   ],
   "source": [
    "Files()"
   ]
  },
  {
   "cell_type": "code",
   "execution_count": 7,
   "metadata": {},
   "outputs": [
    {
     "data": {
      "text/plain": [
       "[('data\\\\parrot.txt',\n",
       "  <_io.TextIOWrapper name='data\\\\parrot.txt' mode='r' encoding='cp1252'>),\n",
       " ('data\\\\zen.txt',\n",
       "  <_io.TextIOWrapper name='data\\\\zen.txt' mode='r' encoding='cp1252'>)]"
      ]
     },
     "execution_count": 7,
     "metadata": {},
     "output_type": "execute_result"
    }
   ],
   "source": [
    "Files() >> Collect()           "
   ]
  },
  {
   "cell_type": "code",
   "execution_count": 8,
   "metadata": {},
   "outputs": [],
   "source": [
    "@nut_processor\n",
    "def Lines(files):     \n",
    "    for path, f in files:\n",
    "        for line in f:\n",
    "            yield path, line                 "
   ]
  },
  {
   "cell_type": "code",
   "execution_count": 9,
   "metadata": {},
   "outputs": [
    {
     "data": {
      "text/plain": [
       "[('data\\\\parrot.txt', 'The Dead Parrot Sketch\\n'),\n",
       " ('data\\\\parrot.txt', \"Customer: 'Ello, I wish to register a complaint.\\n\"),\n",
       " ('data\\\\parrot.txt', \"C: 'Ello, Miss?\\n\")]"
      ]
     },
     "execution_count": 9,
     "metadata": {},
     "output_type": "execute_result"
    }
   ],
   "source": [
    "Files() >> Lines() >> Head(3)                "
   ]
  },
  {
   "cell_type": "code",
   "execution_count": 10,
   "metadata": {},
   "outputs": [],
   "source": [
    "@nut_function\n",
    "def Normalize(line):\n",
    "    path, text = line\n",
    "    for ch in {'.', '?',  ':', ','}:\n",
    "        text = text.replace(ch, ' ')\n",
    "    return path, text.strip().lower()"
   ]
  },
  {
   "cell_type": "code",
   "execution_count": 11,
   "metadata": {},
   "outputs": [
    {
     "data": {
      "text/plain": [
       "[('data\\\\parrot.txt', 'the dead parrot sketch'),\n",
       " ('data\\\\parrot.txt', \"customer  'ello  i wish to register a complaint\"),\n",
       " ('data\\\\parrot.txt', \"c  'ello  miss\")]"
      ]
     },
     "execution_count": 11,
     "metadata": {},
     "output_type": "execute_result"
    }
   ],
   "source": [
    "Files() >> Lines() >> Normalize() >> Head(3)"
   ]
  },
  {
   "cell_type": "code",
   "execution_count": 12,
   "metadata": {},
   "outputs": [],
   "source": [
    "@nut_filter\n",
    "def Contains(line, keywords):\n",
    "    path, text = line\n",
    "    return keywords & set(text.split())"
   ]
  },
  {
   "cell_type": "code",
   "execution_count": 13,
   "metadata": {},
   "outputs": [],
   "source": [
    "@nut_sink \n",
    "def Write(lines, outpath):\n",
    "    with open(outpath, 'w') as f:\n",
    "        for path, text in lines:\n",
    "            f.write('%s: %s\\n' % (path, text))"
   ]
  },
  {
   "cell_type": "code",
   "execution_count": 15,
   "metadata": {},
   "outputs": [
    {
     "name": "stdout",
     "output_type": "stream",
     "text": [
      "('data\\\\parrot.txt', \"'ello  mister polly parrot! i've got a lovely fresh cuttle\")\n",
      "('data\\\\zen.txt', 'simple is better than complex')\n",
      "('data\\\\zen.txt', 'complex is better than complicated')\n"
     ]
    }
   ],
   "source": [
    "keywords = {'polly', 'complex'}\n",
    "Files() >> Lines() >> Normalize() >> Contains(keywords) >> Print() >> Write('data/lines.txt')"
   ]
  },
  {
   "cell_type": "code",
   "execution_count": null,
   "metadata": {},
   "outputs": [],
   "source": []
  }
 ],
 "metadata": {
  "kernelspec": {
   "display_name": "Python 3",
   "language": "python",
   "name": "python3"
  },
  "language_info": {
   "codemirror_mode": {
    "name": "ipython",
    "version": 3
   },
   "file_extension": ".py",
   "mimetype": "text/x-python",
   "name": "python",
   "nbconvert_exporter": "python",
   "pygments_lexer": "ipython3",
   "version": "3.8.5"
  }
 },
 "nbformat": 4,
 "nbformat_minor": 4
}
